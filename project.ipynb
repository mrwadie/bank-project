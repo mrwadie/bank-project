{
 "cells": [
  {
   "cell_type": "code",
   "execution_count": 3,
   "id": "1e42650f-8d11-446d-8ce5-995de31a45ee",
   "metadata": {},
   "outputs": [
    {
     "name": "stdout",
     "output_type": "stream",
     "text": [
      "hy\n"
     ]
    }
   ],
   "source": [
    "print(\"hy\")"
   ]
  },
  {
   "cell_type": "code",
   "execution_count": null,
   "id": "605b3650-0d84-4266-b096-f538801b428c",
   "metadata": {},
   "outputs": [
    {
     "name": "stdout",
     "output_type": "stream",
     "text": [
      "Welcome to the Banking System!\n"
     ]
    },
    {
     "name": "stdin",
     "output_type": "stream",
     "text": [
      "Enter account number:  12\n",
      "Enter name:  malik\n",
      "Enter initial balance:  200\n"
     ]
    },
    {
     "name": "stdout",
     "output_type": "stream",
     "text": [
      "\n",
      "1. Deposit Money\n",
      "2. Withdraw Money\n",
      "3. Check Balance\n",
      "4. Print Statement\n",
      "5. Exit\n"
     ]
    },
    {
     "name": "stdin",
     "output_type": "stream",
     "text": [
      "Enter your choice:  1\n",
      "Enter amount to deposit:  2000\n"
     ]
    },
    {
     "name": "stdout",
     "output_type": "stream",
     "text": [
      "Deposited 2000.0. New balance: 2200.0\n",
      "\n",
      "1. Deposit Money\n",
      "2. Withdraw Money\n",
      "3. Check Balance\n",
      "4. Print Statement\n",
      "5. Exit\n"
     ]
    },
    {
     "name": "stdin",
     "output_type": "stream",
     "text": [
      "Enter your choice:  3\n"
     ]
    },
    {
     "name": "stdout",
     "output_type": "stream",
     "text": [
      "Current balance for account 12: 2200.0\n",
      "\n",
      "1. Deposit Money\n",
      "2. Withdraw Money\n",
      "3. Check Balance\n",
      "4. Print Statement\n",
      "5. Exit\n"
     ]
    },
    {
     "name": "stdin",
     "output_type": "stream",
     "text": [
      "Enter your choice:  4\n"
     ]
    },
    {
     "name": "stdout",
     "output_type": "stream",
     "text": [
      "\n",
      "Account Statement for malik (Account: 12)\n",
      "Type       | Amount  | Balance After\n",
      "----------------------------------\n",
      "Deposit    |  2000.0 | 2200.0\n",
      "\n",
      "1. Deposit Money\n",
      "2. Withdraw Money\n",
      "3. Check Balance\n",
      "4. Print Statement\n",
      "5. Exit\n"
     ]
    }
   ],
   "source": [
    "import os\n",
    "import time\n",
    "\n",
    "# Function to create an account\n",
    "def create_account(account_number, name, initial_balance=0):\n",
    "    return {\n",
    "        'account_number': account_number,\n",
    "        'name': name,\n",
    "        'balance': initial_balance,\n",
    "        'transactions': []  # To track all transactions\n",
    "    }\n",
    "\n",
    "    \n",
    "\n",
    "# Function to record a transaction\n",
    "def record_transaction(account_number, transaction_type, amount, balance_after, file_path=\"transactions.txt\"):\n",
    "    try:\n",
    "        timestamp = time.strftime(\"%Y-%m-%d %H:%M:%S\")\n",
    "        transaction = f\"{timestamp} | Account: {account_number} | {transaction_type} | Amount: {amount} | Balance After: {balance_after}\\n\"\n",
    "        with open(file_path, \"a\") as file:\n",
    "            file.write(transaction)\n",
    "    except IOError as e:\n",
    "        print(f\"Error recording transaction: {e}\")\n",
    "\n",
    "\n",
    "# Function to deposit money into the account\n",
    "def deposit(account, amount, file_path=\"transactions.txt\"):\n",
    "    if amount <= 0:\n",
    "        print(\"Deposit amount must be positive.\")\n",
    "        return account\n",
    "\n",
    "    account['balance'] += amount\n",
    "    account['transactions'].append({'type': 'Deposit', 'amount': amount, 'balance_after': account['balance']})\n",
    "    record_transaction(account['account_number'], \"Deposit\", amount, account['balance'], file_path)\n",
    "    print(f\"Deposited {amount}. New balance: {account['balance']}\")\n",
    "    return account\n",
    "\n",
    "\n",
    "# Function to withdraw money from the account\n",
    "def withdraw(account, amount, file_path=\"transactions.txt\"):\n",
    "    if amount <= 0:\n",
    "        print(\"Withdrawal amount must be positive.\")\n",
    "        return account\n",
    "\n",
    "    if amount > account['balance']:\n",
    "        print(\"Insufficient funds.\")\n",
    "        return account\n",
    "\n",
    "    account['balance'] -= amount\n",
    "    account['transactions'].append({'type': 'Withdrawal', 'amount': amount, 'balance_after': account['balance']})\n",
    "    record_transaction(account['account_number'], \"Withdrawal\", amount, account['balance'], file_path)\n",
    "    print(f\"Withdrew {amount}. New balance: {account['balance']}\")\n",
    "    return account\n",
    "\n",
    "\n",
    "def check_balance(account):\n",
    "    print(f\"Current balance for account {account['account_number']}: {account['balance']}\")\n",
    "    return account['balance']\n",
    "\n",
    "\n",
    "# Function to load and print the transaction history\n",
    "def print_statement(account, file_path=\"transactions.txt\"):\n",
    "    if not os.path.exists(file_path):\n",
    "        print(\"No transactions found.\")\n",
    "        return\n",
    "\n",
    "    print(f\"\\nAccount Statement for {account['name']} (Account: {account['account_number']})\")\n",
    "    print(\"Type       | Amount  | Balance After\")\n",
    "    print(\"----------------------------------\")\n",
    "    for transaction in account['transactions']:\n",
    "        print(f\"{transaction['type']:10} | {transaction['amount']:7} | {transaction['balance_after']}\")\n",
    "\n",
    "\n",
    "# Test the banking system\n",
    "\n",
    "def main():\n",
    "    print(\"Welcome to the Banking System!\")\n",
    "    account = create_account(input(\"Enter account number: \"), input(\"Enter name: \"), float(input(\"Enter initial balance: \")))\n",
    "\n",
    "    while True:\n",
    "        print(\"\\n1. Deposit Money\\n2. Withdraw Money\\n3. Check Balance\\n4. Print Statement\\n5. Exit\")\n",
    "        choice = input(\"Enter your choice: \")\n",
    "\n",
    "        if choice == '1':\n",
    "            amount = float(input(\"Enter amount to deposit: \"))\n",
    "            deposit(account, amount)\n",
    "        elif choice == '2':\n",
    "            amount = float(input(\"Enter amount to withdraw: \"))\n",
    "            withdraw(account, amount)\n",
    "        elif choice == '3':\n",
    "            check_balance(account)\n",
    "        elif choice == '4':\n",
    "            print_statement(account)\n",
    "        elif choice == '5':\n",
    "            print(\"Thank you for using the Banking System. Goodbye!\")\n",
    "            break\n",
    "        else:\n",
    "            print(\"Invalid choice. Please try again.\")\n",
    "\n",
    "\n",
    "if __name__ == \"__main__\":\n",
    "    main()"
   ]
  },
  {
   "cell_type": "code",
   "execution_count": null,
   "id": "05929f5f-86a5-491b-8aad-219dbfad8ecb",
   "metadata": {},
   "outputs": [],
   "source": []
  }
 ],
 "metadata": {
  "kernelspec": {
   "display_name": "Python [conda env:base] *",
   "language": "python",
   "name": "conda-base-py"
  },
  "language_info": {
   "codemirror_mode": {
    "name": "ipython",
    "version": 3
   },
   "file_extension": ".py",
   "mimetype": "text/x-python",
   "name": "python",
   "nbconvert_exporter": "python",
   "pygments_lexer": "ipython3",
   "version": "3.12.7"
  }
 },
 "nbformat": 4,
 "nbformat_minor": 5
}
